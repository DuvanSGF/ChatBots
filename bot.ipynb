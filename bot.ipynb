{
 "cells": [
  {
   "cell_type": "code",
   "execution_count": 2,
   "metadata": {},
   "outputs": [
    {
     "name": "stdout",
     "output_type": "stream",
     "text": [
      "[nltk_data] Downloading package stopwords to C:\\Users\\Mr\n",
      "[nltk_data]     Mejia\\AppData\\Roaming\\nltk_data...\n",
      "[nltk_data]   Package stopwords is already up-to-date!\n",
      "[nltk_data] Downloading package averaged_perceptron_tagger to\n",
      "[nltk_data]     C:\\Users\\Mr Mejia\\AppData\\Roaming\\nltk_data...\n",
      "[nltk_data]   Package averaged_perceptron_tagger is already up-to-\n",
      "[nltk_data]       date!\n"
     ]
    },
    {
     "name": "stderr",
     "output_type": "stream",
     "text": [
      "C:\\Users\\Mr Mejia\\AppData\\Roaming\\Python\\Python36\\site-packages\\chatterbot\\corpus.py:38: YAMLLoadWarning: calling yaml.load() without Loader=... is deprecated, as the default Loader is unsafe. Please read https://msg.pyyaml.org/load for full details.\n",
      "  return yaml.load(data_file)\n"
     ]
    },
    {
     "name": "stdout",
     "output_type": "stream",
     "text": [
      "Training conversations.yml: [####################] 100%\n",
      "Training greetings.yml: [####################] 100%\n",
      "Training trivia.yml: [####################] 100%\n"
     ]
    }
   ],
   "source": [
    "from chatterbot import ChatBot \n",
    "from chatterbot.trainers import ChatterBotCorpusTrainer \n",
    "from chatterbot.trainers import ListTrainer \n",
    "\n",
    "chatbot = ChatBot( \"Ejemplo de bot\" ) \n",
    "trainer = ChatterBotCorpusTrainer(chatbot) \n",
    "trainer.train( \"chatterbot.corpus.spanish\" )"
   ]
  },
  {
   "cell_type": "code",
   "execution_count": null,
   "metadata": {},
   "outputs": [
    {
     "name": "stdout",
     "output_type": "stream",
     "text": [
      ">>> hola\n",
      "BOT: Hola\n",
      ">>> A qué ciudad se le conoce como “La ciudad de la eterna primavera ?\n",
      "BOT: Medellín, Colombia.\n",
      ">>> ¿Cuál es la edad aproximada de la Tierra?\n",
      "BOT: La edad es 4.470 millones de años.\n",
      ">>> a ti te pagan\n",
      "BOT: ¿Qué otra cosa es delicioso?\n",
      ">>> quien es Donal trump\n",
      "BOT: ¿Qué buena noticia?\n",
      ">>> Que pelicula te gustan\n",
      "BOT: Alicia en el país de las maravillas\n",
      ">>> ademas que haces en tiempos libres\n",
      "BOT: ¿Quién eres tu entonces?\n",
      ">>> Duvan\n",
      "BOT: i\n",
      ">>> como me llamo\n",
      "BOT: Saludos\n",
      ">>> como me dicen\n",
      "BOT: ¿Cómo has estado?\n",
      ">>> bn y tu\n",
      "BOT: ¿Puedo pedir prestada una taza de azúcar?\n",
      ">>> claro que si\n",
      "BOT: ¿Quién eres tu entonces?\n",
      ">>> duvan\n",
      "BOT: 3\n",
      ">>> quien soy\n",
      "BOT: i\n",
      ">>> hahah\n",
      "BOT: d\n",
      ">>>  me llamo duvan\n",
      "BOT: ¿Qué otra cosa es delicioso?\n"
     ]
    }
   ],
   "source": [
    "while True:\n",
    "    usuario = input(\">>> \")\n",
    "    respuesta = chatbot.get_response(usuario)\n",
    "    print(\"BOT: \"+str(respuesta))"
   ]
  },
  {
   "cell_type": "code",
   "execution_count": null,
   "metadata": {},
   "outputs": [],
   "source": []
  }
 ],
 "metadata": {
  "kernelspec": {
   "display_name": "Python 3",
   "language": "python",
   "name": "python3"
  },
  "language_info": {
   "codemirror_mode": {
    "name": "ipython",
    "version": 3
   },
   "file_extension": ".py",
   "mimetype": "text/x-python",
   "name": "python",
   "nbconvert_exporter": "python",
   "pygments_lexer": "ipython3",
   "version": "3.6.6"
  }
 },
 "nbformat": 4,
 "nbformat_minor": 2
}
